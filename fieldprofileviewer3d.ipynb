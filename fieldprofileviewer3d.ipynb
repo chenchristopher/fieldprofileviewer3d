{
 "cells": [
  {
   "cell_type": "code",
   "execution_count": 1,
   "metadata": {},
   "outputs": [
    {
     "name": "stderr",
     "output_type": "stream",
     "text": [
      "C:\\ProgramData\\Anaconda3\\lib\\site-packages\\h5py\\__init__.py:36: FutureWarning: Conversion of the second argument of issubdtype from `float` to `np.floating` is deprecated. In future, it will be treated as `np.float64 == np.dtype(float).type`.\n",
      "  from ._conv import register_converters as _register_converters\n"
     ]
    }
   ],
   "source": [
    "from pyqtgraph.Qt import QtGui, QtCore\n",
    "import numpy as np\n",
    "import pyqtgraph as pg\n",
    "import h5py\n",
    "import os\n",
    "import fnmatch\n",
    "import math"
   ]
  },
  {
   "cell_type": "code",
   "execution_count": 2,
   "metadata": {},
   "outputs": [
    {
     "name": "stdout",
     "output_type": "stream",
     "text": [
      "inv_opal_nz_10_r_100nm_th_5nm_TE.mat\n"
     ]
    }
   ],
   "source": [
    "listOfFiles = os.listdir('./')\n",
    "pattern = \"*.mat\"\n",
    "for entry in listOfFiles:\n",
    "    if fnmatch.fnmatch(entry, pattern):\n",
    "        print(entry)"
   ]
  },
  {
   "cell_type": "code",
   "execution_count": 3,
   "metadata": {},
   "outputs": [
    {
     "name": "stdout",
     "output_type": "stream",
     "text": [
      "['E2', 'Ex', 'Ey', 'Ez', 'Ngen', 'Pabs', 'R_nopavg', 'T_nopavg', 'f', 'n', 'n_oxide', 'n_x', 'n_y', 'n_z', 'nf', 'wl', 'x', 'y', 'z']\n"
     ]
    }
   ],
   "source": [
    "d = h5py.File(\"inv_opal_nz_10_r_100nm_th_5nm_TE.mat\",\"r\")\n",
    "print(list(d.keys()))"
   ]
  },
  {
   "cell_type": "code",
   "execution_count": 4,
   "metadata": {},
   "outputs": [
    {
     "name": "stdout",
     "output_type": "stream",
     "text": [
      "data dims: 59 x 59 x 676\n",
      "field dims: 51\n",
      "size expected: 120010956\n"
     ]
    }
   ],
   "source": [
    "x = np.array(d.get('x'))\n",
    "y = np.array(d.get('y'))\n",
    "z = np.array(d.get('z'))\n",
    "f = np.array(d.get('f'))\n",
    "nx = np.size(x)\n",
    "ny = np.size(y)\n",
    "nz = np.size(z)\n",
    "nf = np.size(f)\n",
    "wl = np.reshape(np.transpose(np.array(d.get('wl')))*1e3,(nf,))\n",
    "R = np.reshape(np.transpose(np.array(d.get('R_nopavg'))),(nf,))\n",
    "T = np.transpose(np.array(d.get('T_nopavg')))\n",
    "n_x = np.array(d.get('n_x'))\n",
    "n_y = np.array(d.get('n_y'))\n",
    "n_z = np.array(d.get('n_z'))\n",
    "print(\"data dims: \" + str(nx) + ' x ' + str(ny) + ' x ' + str(nz) )\n",
    "print(\"field dims: \" + str(nf))\n",
    "print(\"size expected: \" + str(nx*ny*nz*nf))"
   ]
  },
  {
   "cell_type": "code",
   "execution_count": 5,
   "metadata": {},
   "outputs": [
    {
     "name": "stdout",
     "output_type": "stream",
     "text": [
      "E2 - E field profile\n",
      "size: 120010956\n",
      "shape: (51, 676, 59, 59)\n",
      "n - index registry\n",
      "size: 120010956\n",
      "shape: (51, 676, 59, 59)\n",
      "n_oxide - Cu2O index ref\n",
      "size: 51\n",
      "shape: (1, 51)\n"
     ]
    }
   ],
   "source": [
    "E2 = np.array(d.get('E2'))\n",
    "print(\"E2 - E field profile\")\n",
    "print(\"size: \" + str(np.size(E2)))\n",
    "print(\"shape: \" + str(np.shape(E2)))\n",
    "\n",
    "n = np.array(d.get('n'))\n",
    "print(\"n - index registry\")\n",
    "print(\"size: \" + str(np.size(n)))\n",
    "print(\"shape: \" + str(np.shape(n)))\n",
    "\n",
    "n_oxide = np.array(d.get('n_oxide'))\n",
    "print(\"n_oxide - Cu2O index ref\")\n",
    "print(\"size: \" + str(np.size(n_oxide)))\n",
    "print(\"shape: \" + str(np.shape(n_oxide)))"
   ]
  },
  {
   "cell_type": "code",
   "execution_count": 6,
   "metadata": {},
   "outputs": [],
   "source": [
    "if (0):\n",
    "    omega = 2*math.pi*f\n",
    "    eps0 = 8.85e-34\n",
    "    #w = widgets.IntProgress(value = 0,min = 0,max=nx,description=\"Computing E2: \")\n",
    "    #display(w)\n",
    "    Pabs = np.empty((nf,nz,ny,nx))\n",
    "    Ngen = np.empty((nf,nz,ny,nx))\n",
    "    Pabs.fill(0.0)\n",
    "    Ngen.fill(0.0)\n",
    "    for xx in range(0,nx):\n",
    "        for yy in range(0,ny):\n",
    "            for zz in range(0,nz):\n",
    "                for ff in range(0,nf):\n",
    "                    if n_oxide[0,ff] == n[ff,zz,yy,xx]:\n",
    "                        ieps = eps0*(2*n_oxide[0,ff][0]*n_oxide[0,ff][1])\n",
    "                        o = omega[0,ff]\n",
    "                        Pabs[ff,zz,yy,xx] = 0.5*o*E2[ff,zz,yy,xx]*ieps\n",
    "                        Ngen[ff,zz,yy,xx] = Pabs[ff,zz,yy,xx]*1e-6/(6.626e-34*f[0,ff])\n",
    "        print(str(xx+1) + ' out of ' + str(nx) + ' complete.')\n",
    "\n",
    "    #d.create_dataset(\"E2\",data=E2)\n",
    "    #d.flush()\n",
    "    d.create_dataset(\"Pabs\",data=Pabs)\n",
    "    d.create_dataset(\"Ngen\",data=Ngen)\n",
    "    d.flush()\n",
    "else:\n",
    "    Pabs = np.array(d.get(\"Pabs\"))\n",
    "    Ngen = np.array(d.get(\"Ngen\"))\n"
   ]
  },
  {
   "cell_type": "code",
   "execution_count": 7,
   "metadata": {},
   "outputs": [],
   "source": [
    "d.close()"
   ]
  },
  {
   "cell_type": "code",
   "execution_count": 8,
   "metadata": {},
   "outputs": [],
   "source": [
    "#start app instance \n",
    "app = QtGui.QApplication([])\n",
    "\n",
    "#GraphicsView and layout base instances\n",
    "view = pg.GraphicsView()\n",
    "view.resize(1200,800)\n",
    "lay = pg.GraphicsLayout()\n",
    "view.setCentralItem(lay)\n",
    "view.setWindowTitle(\"Data Browser\")\n",
    "\n",
    "#datmat = E2\n",
    "datmat = Ngen\n",
    "#datmat = Pabs\n",
    "\n",
    "yscale = (np.max(y)-np.min(y))/ny\n",
    "xscale = (np.max(x)-np.min(x))/nx\n",
    "zscale = (np.max(z)-np.min(z))/nz\n",
    "\n",
    "# Interpret image data as row-major instead of col-major\n",
    "pg.setConfigOptions(imageAxisOrder='row-major')\n",
    "\n",
    "p1 = lay.addPlot(title=\"R\",col=1,row=1,colspan=5)\n",
    "p1.plot(wl*1e-9,R)\n",
    "p1_xax = p1.getAxis('bottom')\n",
    "p1_xax.setLabel(text='Wavelength',units='m')\n",
    "p1_yax = p1.getAxis('left')\n",
    "p1_yax.setLabel(text='Fraction')\n",
    "l1 = pg.InfiniteLine(pos=(np.max(wl)-np.min(wl))/2*1e-9,bounds=[np.min(wl)*1e-9,np.max(wl)*1e-9],angle=90,movable=True)\n",
    "p1.addItem(l1)\n",
    "\n",
    "p2 = lay.addPlot(col=1,row=2,colspan=4)\n",
    "p2.invertY(False)\n",
    "p2.setAspectLocked()\n",
    "\n",
    "img2=pg.ImageItem()\n",
    "img2.setImage(datmat[26,337,:,:])\n",
    "p2.addItem(img2)\n",
    "p2_yax = p2.getAxis('left')\n",
    "p2_yax.setScale(scale=yscale)\n",
    "p2_yax.setLabel(text='y',units='m')\n",
    "p2_xax = p2.getAxis('bottom')\n",
    "p2_xax.setScale(scale=xscale)\n",
    "p2_xax.setLabel(text='x',units='m')\n",
    "\n",
    "hist_lut2 = pg.HistogramLUTItem()\n",
    "hist_lut2.setImageItem(img2)\n",
    "\n",
    "lay.addItem(hist_lut2,col=5,row=2,colspan=1)\n",
    "\n",
    "p3 = lay.addPlot(col=6,row=1,colspan=1,rowspan=2)\n",
    "p3.setAspectLocked()\n",
    "img3=pg.ImageItem()\n",
    "img3.setImage(datmat[26,:,:,29])\n",
    "p3.addItem(img3)\n",
    "p3_xax = p3.getAxis('bottom')\n",
    "p3_xax.setScale(scale=xscale)\n",
    "p3_xax.setLabel(text='x',units='m')\n",
    "p3_yax = p3.getAxis('left')\n",
    "p3_yax.setScale(scale=zscale)\n",
    "p3_yax.setLabel(text='z',units='m')\n",
    "\n",
    "l3 = pg.InfiniteLine(pos=337,angle=0,movable=True,bounds=[0,nz-1])\n",
    "p3.addItem(l3)\n",
    "\n",
    "p4 = lay.addPlot(col=7,row=1,colspan=1,rowspan=2)\n",
    "p4.setAspectLocked()\n",
    "img4 = pg.ImageItem(view=pg.PlotItem())\n",
    "img4.setImage(datmat[26,:,29,:])\n",
    "p4.addItem(img4)\n",
    "\n",
    "p4_xax = p4.getAxis('bottom')\n",
    "p4_xax.setScale(scale=yscale)\n",
    "p4_xax.setLabel(text='x',units='m')\n",
    "p4_yax = p4.getAxis('left')\n",
    "p4_yax.setScale(scale=zscale)\n",
    "p4_yax.setLabel(text='z',units='m')\n",
    "\n",
    "l4 = pg.InfiniteLine(pos=337,angle=0,movable=True,bounds=[0,nz-1])\n",
    "p4.addItem(l4)\n",
    "\n",
    "p4.setXLink(p3)\n",
    "p4.setYLink(p3)\n",
    "\n",
    "def find_nearest(array, value):\n",
    "    array = np.asarray(array)\n",
    "    idx = (np.abs(array - value)).argmin()\n",
    "    return idx, array[idx]\n",
    "\n",
    "def updatep1(il):\n",
    "    #print(il.value())\n",
    "    wl_ind, wl_near = find_nearest(wl*1e-9,il.value())\n",
    "    il.setValue(wl_near)\n",
    "    p1.setTitle('R, wl = ' + str(round(wl_near*1e9,1))+'nm')\n",
    "    img2.setImage(datmat[wl_ind,round(l3.value()),:,:])\n",
    "    img3.setImage(datmat[wl_ind,:,:,29])\n",
    "    img4.setImage(datmat[wl_ind,:,29,:])\n",
    "    hist_lut2.autoHistogramRange()\n",
    "\n",
    "def updatep3(il):\n",
    "    wl_ind, wl_near = find_nearest(wl*1e-9,l1.value())\n",
    "    px = round(il.value())\n",
    "    l4.setValue(il.value())\n",
    "    img2.setImage(datmat[wl_ind,px,:,:])\n",
    "    hist_lut2.autoHistogramRange()\n",
    "    \n",
    "def updatep4(il):\n",
    "    wl_ind, wl_near = find_nearest(wl*1e-9,l1.value())\n",
    "    px = round(il.value())\n",
    "    l3.setValue(il.value())\n",
    "    img2.setImage(datmat[wl_ind,px,:,:])\n",
    "    hist_lut2.autoHistogramRange()\n",
    "\n",
    "l1.sigPositionChanged.connect(updatep1)\n",
    "updatep1(l1)\n",
    "\n",
    "l3.sigPositionChanged.connect(updatep3)\n",
    "updatep3(l3)\n",
    "\n",
    "l4.sigPositionChanged.connect(updatep4)\n",
    "updatep4(l4)\n",
    "\n",
    "view.show()\n",
    "\n",
    "## Start Qt event loop unless running in interactive mode or using pyside.\n",
    "if __name__ == '__main__':\n",
    "    import sys\n",
    "    if (sys.flags.interactive != 1) or not hasattr(QtCore, 'PYQT_VERSION'):\n",
    "        QtGui.QApplication.instance().exec_()\n",
    "del app,view,lay"
   ]
  },
  {
   "cell_type": "code",
   "execution_count": null,
   "metadata": {},
   "outputs": [],
   "source": []
  },
  {
   "cell_type": "code",
   "execution_count": null,
   "metadata": {},
   "outputs": [],
   "source": []
  }
 ],
 "metadata": {
  "kernelspec": {
   "display_name": "Python 3",
   "language": "python",
   "name": "python3"
  },
  "language_info": {
   "codemirror_mode": {
    "name": "ipython",
    "version": 3
   },
   "file_extension": ".py",
   "mimetype": "text/x-python",
   "name": "python",
   "nbconvert_exporter": "python",
   "pygments_lexer": "ipython3",
   "version": "3.6.5"
  }
 },
 "nbformat": 4,
 "nbformat_minor": 2
}
